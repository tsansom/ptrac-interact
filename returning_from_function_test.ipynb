{
 "cells": [
  {
   "cell_type": "code",
   "execution_count": 3,
   "metadata": {},
   "outputs": [
    {
     "data": {
      "application/vnd.jupyter.widget-view+json": {
       "model_id": "17544f4f5ff24a2cb1b79b9a74949c7f"
      }
     },
     "metadata": {},
     "output_type": "display_data"
    },
    {
     "data": {
      "application/vnd.jupyter.widget-view+json": {
       "model_id": "a1ecd649d8994f518aa1a0eee8bf6e9d"
      }
     },
     "metadata": {},
     "output_type": "display_data"
    },
    {
     "name": "stdout",
     "output_type": "stream",
     "text": [
      "Submitting\n",
      "Text try this wordasdf\n",
      "Combining words is easy: try this wordasdf another word\n"
     ]
    }
   ],
   "source": [
    "import ipywidgets as widgets\n",
    "from IPython.display import display\n",
    "\n",
    "def any_function_returning_value(word1,word2):\n",
    "    new_word = 'Combining words is easy: %s %s'%(word1,word2)\n",
    "    print(new_word)\n",
    "    return new_word\n",
    "\n",
    "class learn_classes_and_widgets():\n",
    "    def __init__(self, param1 = 'a word', param2 = 'another word'):\n",
    "        self.p1_text = widgets.Text(description = 'Word #1',value = param1)\n",
    "        self.p2_text = widgets.Text(description = 'Word #2',value = param2)\n",
    "        self.p1_text.on_submit(self.handle_submit)\n",
    "        self.p2_text.on_submit(self.handle_submit)\n",
    "        display(self.p1_text, self.p2_text)\n",
    "\n",
    "    def handle_submit(self, text):\n",
    "        print(\"Submitting\")\n",
    "        print(\"Text \" + str(text.value))\n",
    "        self.w = any_function_returning_value(self.p1_text.value,self.p2_text.value)\n",
    "        return self.w\n",
    "\n",
    "f = learn_classes_and_widgets(param1 = 'try this word')"
   ]
  },
  {
   "cell_type": "code",
   "execution_count": 6,
   "metadata": {},
   "outputs": [
    {
     "data": {
      "text/plain": [
       "'Combining words is easy: try this wordasdf another word'"
      ]
     },
     "execution_count": 6,
     "metadata": {},
     "output_type": "execute_result"
    }
   ],
   "source": [
    "f.w"
   ]
  },
  {
   "cell_type": "code",
   "execution_count": null,
   "metadata": {
    "collapsed": true
   },
   "outputs": [],
   "source": []
  }
 ],
 "metadata": {
  "kernelspec": {
   "display_name": "Python 3",
   "language": "python",
   "name": "python3"
  },
  "language_info": {
   "codemirror_mode": {
    "name": "ipython",
    "version": 3
   },
   "file_extension": ".py",
   "mimetype": "text/x-python",
   "name": "python",
   "nbconvert_exporter": "python",
   "pygments_lexer": "ipython3",
   "version": "3.6.1"
  }
 },
 "nbformat": 4,
 "nbformat_minor": 2
}
