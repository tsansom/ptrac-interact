{
 "cells": [
  {
   "cell_type": "code",
   "execution_count": 1,
   "metadata": {},
   "outputs": [],
   "source": [
    "import ipywidgets as widgets\n",
    "from IPython.display import display\n",
    "import pandas as pd\n",
    "from s3fs.core import S3FileSystem\n",
    "import numpy as np\n",
    "import shapefile\n",
    "from numba import jit, njit"
   ]
  },
  {
   "cell_type": "markdown",
   "metadata": {},
   "source": [
    "## Functions"
   ]
  },
  {
   "cell_type": "code",
   "execution_count": 2,
   "metadata": {},
   "outputs": [],
   "source": [
    "from s3_functions import *\n",
    "from shp_functions import *"
   ]
  },
  {
   "cell_type": "code",
   "execution_count": 3,
   "metadata": {
    "collapsed": true
   },
   "outputs": [],
   "source": [
    "def on_button_click(b):\n",
    "    #since the on_click functions doesn't return anything, need to make these global\n",
    "    global lat, lon, outflw1, coords, avesal, avesal_coords\n",
    "    \n",
    "    #get the current state of the dropdown widgets\n",
    "    year = year_dropdown.get_interact_value()\n",
    "    month = month_dict[month_dropdown.get_interact_value()]\n",
    "    \n",
    "    #create the keys for the lat/lon files, this is their path in S3\n",
    "    lat_key = 'data/{}/{}/lat.csv'.format(year, month)\n",
    "    lon_key = 'data/{}/{}/lon.csv'.format(year, month)\n",
    "    \n",
    "    #pandas 0.20 uses s3fs to access S3 objects now (previous versions used boto or boto3)\n",
    "    print('Reading latitude')\n",
    "    lat = pd.read_csv(s3.open('{}/{}'.format(bucket, lat_key), mode='rb'), parse_dates=True, index_col=0)\n",
    "    print('Reading longitude')\n",
    "    lon = pd.read_csv(s3.open('{}/{}'.format(bucket, lon_key), mode='rb'), parse_dates=True, index_col=0)\n",
    "    print('Reading velocity')\n",
    "    outflw1 = read_outflw1(year, month, s3, bucket)\n",
    "    print('Reading coordinates')\n",
    "    coords = read_coords(year, month, zone_number, zone_letter, s3, bucket)\n",
    "    print('Reading salinity')\n",
    "    avesal, avesal_coords = read_avesalD(year, month, s3, bucket, coords, extent)\n",
    "    print('Done!')"
   ]
  },
  {
   "cell_type": "code",
   "execution_count": 4,
   "metadata": {},
   "outputs": [
    {
     "data": {
      "application/vnd.jupyter.widget-view+json": {
       "model_id": "2048be94ac0140d19b6b6f853272137a"
      }
     },
     "metadata": {},
     "output_type": "display_data"
    },
    {
     "data": {
      "application/vnd.jupyter.widget-view+json": {
       "model_id": "daee8b0ea1b94099aa4a5dcc93614fe4"
      }
     },
     "metadata": {},
     "output_type": "display_data"
    },
    {
     "data": {
      "application/vnd.jupyter.widget-view+json": {
       "model_id": "3eee926801094b358e32d40b344ee18a"
      }
     },
     "metadata": {},
     "output_type": "display_data"
    },
    {
     "name": "stdout",
     "output_type": "stream",
     "text": [
      "Reading latitude\n",
      "Reading longitude\n",
      "Reading velocity\n",
      "Reading coordinates\n",
      "Reading salinity\n",
      "Done!\n"
     ]
    }
   ],
   "source": [
    "s3 = S3FileSystem(anon=True)\n",
    "bucket = 'ptrac-copano'\n",
    "month_dict = {\n",
    "    'April': '0401',\n",
    "    'May': '0501',\n",
    "    'June': '0601',\n",
    "    'July': '0701',\n",
    "    'August': '0801',\n",
    "}\n",
    "zone_number = 14\n",
    "zone_letter = 'R'\n",
    "extent = (-97.4, -96.6, 27.7, 28.44)\n",
    "\n",
    "year_dropdown = widgets.Dropdown(\n",
    "    options = ['1993', '1995', '1997', '2007', '2009', '2011'],\n",
    "    value = '1993',\n",
    "    description = 'Year:',\n",
    ")\n",
    "\n",
    "month_dropdown = widgets.Dropdown(\n",
    "    options = ['April', 'May', 'June', 'July', 'August'],\n",
    "    value = 'April',\n",
    "    description = 'Month:',\n",
    ")\n",
    "\n",
    "submit_button = widgets.Button(\n",
    "    description = 'Get Data',\n",
    "    button_style = 'info',\n",
    "    tooltip = 'Click here to start downloading the appropriate data',\n",
    "    icon = 'check',\n",
    ")\n",
    "\n",
    "display(year_dropdown, month_dropdown, submit_button)\n",
    "\n",
    "submit_button.on_click(on_button_click)"
   ]
  },
  {
   "cell_type": "markdown",
   "metadata": {},
   "source": [
    "# This will read the shapefile and convert to a list of geometries"
   ]
  },
  {
   "cell_type": "code",
   "execution_count": 5,
   "metadata": {},
   "outputs": [],
   "source": [
    "from cartopy.io.shapereader import Reader\n",
    "import shapefile\n",
    "\n",
    "shp_key = 'data/shapefile/CBclosed.shp'\n",
    "dbf_key = 'data/shapefile/CBclosed.dbf'\n",
    "shx_key = 'data/shapefile/CBclosed.shx'\n",
    "shp_file = s3.open('{}/{}'.format(bucket, shp_key), mode='rb')\n",
    "dbf_file = s3.open('{}/{}'.format(bucket, dbf_key), mode='rb')\n",
    "shx_file = s3.open('{}/{}'.format(bucket, shx_key), mode='rb')\n",
    "\n",
    "r = shapefile.Reader(shp=shp_file, dbf=dbf_file, shx=shx_file)\n",
    "\n",
    "geoms = []\n",
    "for i in range(r.numRecords):\n",
    "    geoms.append(create_polygon(r.shape(i)))"
   ]
  },
  {
   "cell_type": "code",
   "execution_count": 6,
   "metadata": {
    "collapsed": true
   },
   "outputs": [],
   "source": [
    "max_area = 0\n",
    "max_area_id = 0\n",
    "for i in range(len(geoms)):\n",
    "    if geoms[i].area > max_area:\n",
    "        max_area = geoms[i].area\n",
    "        max_area_id = i\n",
    "        polygon = geoms[i]"
   ]
  },
  {
   "cell_type": "code",
   "execution_count": 7,
   "metadata": {},
   "outputs": [],
   "source": [
    "lato = np.array(avesal_coords['lat'])\n",
    "lono = np.array(avesal_coords['lon'])\n",
    "lati = np.linspace(min(lato), max(lato), 100)\n",
    "loni = np.linspace(min(lono), max(lono), 100)\n",
    "glon, glat = np.meshgrid(loni, lati)"
   ]
  },
  {
   "cell_type": "code",
   "execution_count": 8,
   "metadata": {},
   "outputs": [
    {
     "data": {
      "text/plain": [
       "array([[False, False, False, ..., False, False, False],\n",
       "       [False, False, False, ..., False, False, False],\n",
       "       [False, False, False, ..., False, False, False],\n",
       "       ..., \n",
       "       [False, False, False, ..., False, False, False],\n",
       "       [False, False, False, ..., False, False, False],\n",
       "       [False, False, False, ..., False, False, False]], dtype=bool)"
      ]
     },
     "execution_count": 8,
     "metadata": {},
     "output_type": "execute_result"
    }
   ],
   "source": [
    "mask = inpolygon(polygon, glon.ravel(), glat.ravel())\n",
    "mask = mask.reshape(glon.shape)"
   ]
  },
  {
   "cell_type": "markdown",
   "metadata": {},
   "source": [
    "# everything above works, trying to speed up creating mask "
   ]
  },
  {
   "cell_type": "code",
   "execution_count": 115,
   "metadata": {
    "collapsed": true
   },
   "outputs": [],
   "source": [
    "def notinpolys(polys, xp, yp):\n",
    "    tmp = np.zeros(xp.shape, dtype=bool)\n",
    "    for pt in enumerate(zip(xp, yp)):\n",
    "        for poly in polys:\n",
    "            if not sgeom.Point(pt[1]).intersects(poly):\n",
    "                break\n",
    "    return tmp"
   ]
  },
  {
   "cell_type": "code",
   "execution_count": 116,
   "metadata": {},
   "outputs": [],
   "source": [
    "try1 = notinpolys(geoms[:-1], glon.ravel()[:100], glat.ravel()[:100])\n",
    "try2 = inpolygon(geoms[-1], glon.ravel()[:100], glat.ravel()[:100])"
   ]
  },
  {
   "cell_type": "code",
   "execution_count": 117,
   "metadata": {},
   "outputs": [
    {
     "data": {
      "text/plain": [
       "array([False, False, False, False, False, False, False, False, False,\n",
       "       False, False, False, False, False, False, False, False, False,\n",
       "       False, False, False, False, False, False, False, False, False,\n",
       "       False, False, False, False, False, False, False, False, False,\n",
       "       False, False, False, False, False, False,  True,  True, False,\n",
       "       False, False, False, False, False, False, False, False, False,\n",
       "       False, False, False, False, False, False, False, False, False,\n",
       "       False, False, False, False, False, False, False, False, False,\n",
       "       False, False, False, False, False, False, False, False, False,\n",
       "       False, False, False, False, False, False, False, False, False,\n",
       "       False, False, False, False, False, False, False, False, False, False], dtype=bool)"
      ]
     },
     "execution_count": 117,
     "metadata": {},
     "output_type": "execute_result"
    }
   ],
   "source": [
    "try1 == try2"
   ]
  },
  {
   "cell_type": "code",
   "execution_count": 108,
   "metadata": {
    "collapsed": true
   },
   "outputs": [],
   "source": [
    "polys = geoms[:-1]\n",
    "xp = glon.ravel()[:100]\n",
    "yp = glat.ravel()[:100]"
   ]
  },
  {
   "cell_type": "code",
   "execution_count": 112,
   "metadata": {},
   "outputs": [
    {
     "name": "stdout",
     "output_type": "stream",
     "text": [
      "False\n",
      "False\n",
      "False\n",
      "False\n",
      "False\n",
      "False\n",
      "False\n",
      "False\n",
      "False\n",
      "False\n",
      "False\n",
      "False\n",
      "False\n",
      "False\n",
      "False\n",
      "False\n",
      "False\n",
      "False\n",
      "False\n",
      "False\n",
      "False\n",
      "False\n",
      "False\n",
      "False\n",
      "False\n",
      "False\n",
      "False\n",
      "False\n",
      "False\n",
      "False\n",
      "False\n",
      "False\n",
      "False\n",
      "False\n",
      "False\n",
      "False\n",
      "False\n",
      "False\n",
      "False\n",
      "False\n",
      "False\n",
      "False\n",
      "False\n",
      "False\n",
      "False\n",
      "False\n",
      "False\n",
      "False\n"
     ]
    }
   ],
   "source": [
    "pt = (0, (-97.399850196500779, 27.5485051154354))\n",
    "for poly in geoms:\n",
    "    print(sgeom.Point(pt[1]).intersects(poly))"
   ]
  },
  {
   "cell_type": "code",
   "execution_count": 99,
   "metadata": {},
   "outputs": [
    {
     "name": "stdout",
     "output_type": "stream",
     "text": [
      "(0, (-97.399850196500779, 27.5485051154354))\n",
      "(1, (-97.390085497280054, 27.5485051154354))\n",
      "(2, (-97.380320798059344, 27.5485051154354))\n",
      "(3, (-97.37055609883862, 27.5485051154354))\n",
      "(4, (-97.360791399617895, 27.5485051154354))\n",
      "(5, (-97.351026700397185, 27.5485051154354))\n",
      "(6, (-97.34126200117646, 27.5485051154354))\n",
      "(7, (-97.331497301955736, 27.5485051154354))\n",
      "(8, (-97.321732602735025, 27.5485051154354))\n",
      "(9, (-97.311967903514301, 27.5485051154354))\n",
      "(10, (-97.302203204293576, 27.5485051154354))\n",
      "(11, (-97.292438505072852, 27.5485051154354))\n",
      "(12, (-97.282673805852141, 27.5485051154354))\n",
      "(13, (-97.272909106631417, 27.5485051154354))\n",
      "(14, (-97.263144407410692, 27.5485051154354))\n",
      "(15, (-97.253379708189982, 27.5485051154354))\n",
      "(16, (-97.243615008969257, 27.5485051154354))\n",
      "(17, (-97.233850309748533, 27.5485051154354))\n",
      "(18, (-97.224085610527823, 27.5485051154354))\n",
      "(19, (-97.214320911307098, 27.5485051154354))\n",
      "(20, (-97.204556212086374, 27.5485051154354))\n",
      "(21, (-97.194791512865663, 27.5485051154354))\n",
      "(22, (-97.185026813644939, 27.5485051154354))\n",
      "(23, (-97.175262114424214, 27.5485051154354))\n",
      "(24, (-97.165497415203504, 27.5485051154354))\n",
      "(25, (-97.155732715982779, 27.5485051154354))\n",
      "(26, (-97.145968016762055, 27.5485051154354))\n",
      "(27, (-97.13620331754133, 27.5485051154354))\n",
      "(28, (-97.12643861832062, 27.5485051154354))\n",
      "(29, (-97.116673919099895, 27.5485051154354))\n",
      "(30, (-97.106909219879171, 27.5485051154354))\n",
      "(31, (-97.09714452065846, 27.5485051154354))\n",
      "(32, (-97.087379821437736, 27.5485051154354))\n",
      "(33, (-97.077615122217011, 27.5485051154354))\n",
      "(34, (-97.067850422996301, 27.5485051154354))\n",
      "(35, (-97.058085723775577, 27.5485051154354))\n",
      "(36, (-97.048321024554852, 27.5485051154354))\n",
      "(37, (-97.038556325334142, 27.5485051154354))\n",
      "(38, (-97.028791626113417, 27.5485051154354))\n",
      "(39, (-97.019026926892693, 27.5485051154354))\n",
      "(40, (-97.009262227671982, 27.5485051154354))\n",
      "(41, (-96.999497528451258, 27.5485051154354))\n",
      "(42, (-96.989732829230533, 27.5485051154354))\n",
      "(43, (-96.979968130009809, 27.5485051154354))\n",
      "(44, (-96.970203430789098, 27.5485051154354))\n",
      "(45, (-96.960438731568374, 27.5485051154354))\n",
      "(46, (-96.950674032347649, 27.5485051154354))\n",
      "(47, (-96.940909333126939, 27.5485051154354))\n",
      "(48, (-96.931144633906214, 27.5485051154354))\n",
      "(49, (-96.92137993468549, 27.5485051154354))\n",
      "(50, (-96.91161523546478, 27.5485051154354))\n",
      "(51, (-96.901850536244055, 27.5485051154354))\n",
      "(52, (-96.89208583702333, 27.5485051154354))\n",
      "(53, (-96.88232113780262, 27.5485051154354))\n",
      "(54, (-96.872556438581896, 27.5485051154354))\n",
      "(55, (-96.862791739361171, 27.5485051154354))\n",
      "(56, (-96.853027040140461, 27.5485051154354))\n",
      "(57, (-96.843262340919736, 27.5485051154354))\n",
      "(58, (-96.833497641699012, 27.5485051154354))\n",
      "(59, (-96.823732942478287, 27.5485051154354))\n",
      "(60, (-96.813968243257577, 27.5485051154354))\n",
      "(61, (-96.804203544036852, 27.5485051154354))\n",
      "(62, (-96.794438844816128, 27.5485051154354))\n",
      "(63, (-96.784674145595417, 27.5485051154354))\n",
      "(64, (-96.774909446374693, 27.5485051154354))\n",
      "(65, (-96.765144747153968, 27.5485051154354))\n",
      "(66, (-96.755380047933258, 27.5485051154354))\n",
      "(67, (-96.745615348712533, 27.5485051154354))\n",
      "(68, (-96.735850649491809, 27.5485051154354))\n",
      "(69, (-96.726085950271099, 27.5485051154354))\n",
      "(70, (-96.716321251050374, 27.5485051154354))\n",
      "(71, (-96.706556551829649, 27.5485051154354))\n",
      "(72, (-96.696791852608939, 27.5485051154354))\n",
      "(73, (-96.687027153388215, 27.5485051154354))\n",
      "(74, (-96.67726245416749, 27.5485051154354))\n",
      "(75, (-96.667497754946766, 27.5485051154354))\n",
      "(76, (-96.657733055726055, 27.5485051154354))\n",
      "(77, (-96.647968356505331, 27.5485051154354))\n",
      "(78, (-96.638203657284606, 27.5485051154354))\n",
      "(79, (-96.628438958063896, 27.5485051154354))\n",
      "(80, (-96.618674258843171, 27.5485051154354))\n",
      "(81, (-96.608909559622447, 27.5485051154354))\n",
      "(82, (-96.599144860401736, 27.5485051154354))\n",
      "(83, (-96.589380161181012, 27.5485051154354))\n",
      "(84, (-96.579615461960287, 27.5485051154354))\n",
      "(85, (-96.569850762739577, 27.5485051154354))\n",
      "(86, (-96.560086063518852, 27.5485051154354))\n",
      "(87, (-96.550321364298128, 27.5485051154354))\n",
      "(88, (-96.540556665077418, 27.5485051154354))\n",
      "(89, (-96.530791965856693, 27.5485051154354))\n",
      "(90, (-96.521027266635969, 27.5485051154354))\n",
      "(91, (-96.511262567415244, 27.5485051154354))\n",
      "(92, (-96.501497868194534, 27.5485051154354))\n",
      "(93, (-96.491733168973809, 27.5485051154354))\n",
      "(94, (-96.481968469753085, 27.5485051154354))\n",
      "(95, (-96.472203770532374, 27.5485051154354))\n",
      "(96, (-96.46243907131165, 27.5485051154354))\n",
      "(97, (-96.452674372090925, 27.5485051154354))\n",
      "(98, (-96.442909672870215, 27.5485051154354))\n",
      "(99, (-96.43314497364949, 27.5485051154354))\n"
     ]
    }
   ],
   "source": [
    "tmp = np.ones(xp.shape)\n",
    "for pt in enumerate(zip(xp, yp)):\n",
    "    for poly in polys:\n",
    "        if sgeom.Point()"
   ]
  },
  {
   "cell_type": "code",
   "execution_count": 106,
   "metadata": {},
   "outputs": [
    {
     "name": "stdout",
     "output_type": "stream",
     "text": [
      "False\n",
      "False\n",
      "False\n",
      "False\n",
      "False\n",
      "False\n",
      "False\n",
      "False\n",
      "False\n",
      "False\n",
      "False\n",
      "False\n",
      "False\n",
      "False\n",
      "False\n",
      "False\n",
      "False\n",
      "False\n",
      "False\n",
      "False\n",
      "False\n",
      "False\n",
      "False\n",
      "False\n",
      "False\n",
      "False\n",
      "False\n",
      "False\n",
      "False\n",
      "False\n",
      "False\n",
      "False\n",
      "False\n",
      "False\n",
      "False\n",
      "False\n",
      "False\n",
      "False\n",
      "False\n",
      "False\n",
      "False\n",
      "False\n",
      "False\n",
      "False\n",
      "False\n",
      "False\n",
      "False\n",
      "False\n"
     ]
    }
   ],
   "source": [
    "for poly in geoms:\n",
    "    print(sgeom.Point(pt[1]).intersects(poly))\n",
    "    "
   ]
  },
  {
   "cell_type": "code",
   "execution_count": null,
   "metadata": {
    "collapsed": true
   },
   "outputs": [],
   "source": []
  }
 ],
 "metadata": {
  "kernelspec": {
   "display_name": "Python 3",
   "language": "python",
   "name": "python3"
  },
  "language_info": {
   "codemirror_mode": {
    "name": "ipython",
    "version": 3
   },
   "file_extension": ".py",
   "mimetype": "text/x-python",
   "name": "python",
   "nbconvert_exporter": "python",
   "pygments_lexer": "ipython3",
   "version": "3.5.3"
  }
 },
 "nbformat": 4,
 "nbformat_minor": 2
}
