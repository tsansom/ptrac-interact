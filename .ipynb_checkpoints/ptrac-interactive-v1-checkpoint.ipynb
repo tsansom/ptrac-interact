{
 "cells": [
  {
   "cell_type": "markdown",
   "metadata": {},
   "source": [
    "## Import Libraries and Functions"
   ]
  },
  {
   "cell_type": "code",
   "execution_count": 3,
   "metadata": {
    "collapsed": true
   },
   "outputs": [],
   "source": [
    "import ipywidgets as widgets\n",
    "from IPython.display import display\n",
    "import pandas as pd\n",
    "from s3fs.core import S3FileSystem\n",
    "import numpy as np\n",
    "import shapefile\n",
    "\n",
    "from s3_functions import *\n",
    "from shp_functions import *"
   ]
  },
  {
   "cell_type": "markdown",
   "metadata": {},
   "source": [
    "## Define constants"
   ]
  },
  {
   "cell_type": "code",
   "execution_count": 4,
   "metadata": {
    "collapsed": true
   },
   "outputs": [],
   "source": [
    "s3 = S3FileSystem(anon=True)\n",
    "bucket = 'ptrac-copano'\n",
    "extent = (-97.4, -96.6, 27.7, 28.44)\n",
    "zone_number = 14\n",
    "zone_letter = 'R'\n",
    "month_dict = {\n",
    "    'April': '0401',\n",
    "    'May': '0501',\n",
    "    'June': '0601',\n",
    "    'July': '0701',\n",
    "    'August': '0801',\n",
    "}\n",
    "\n",
    "\n"
   ]
  },
  {
   "cell_type": "code",
   "execution_count": 5,
   "metadata": {},
   "outputs": [
    {
     "name": "stdout",
     "output_type": "stream",
     "text": [
      "Reading coordinates\n",
      "Reading shapefile\n",
      "Creating mask\n",
      "Done!\n"
     ]
    }
   ],
   "source": [
    "print('Reading coordinates')\n",
    "coords = read_coords(zone_number, zone_letter, extent, s3, bucket)\n",
    "print('Reading shapefile')\n",
    "r, polygon = read_shapefile(s3, bucket)\n",
    "print('Creating mask')\n",
    "mask, lati, loni = create_mask(coords, polygon)\n",
    "print('Done!')"
   ]
  },
  {
   "cell_type": "code",
   "execution_count": 8,
   "metadata": {
    "collapsed": true
   },
   "outputs": [],
   "source": [
    "def read_data(b):\n",
    "    #since the on_click functions doesn't return anything, need to make these global\n",
    "    global lat, lon, outflw1, coords, avesal\n",
    "    \n",
    "    #get the current state of the dropdown widgets\n",
    "    year = year_dropdown.get_interact_value()\n",
    "    month = month_dict[month_dropdown.get_interact_value()]\n",
    "    \n",
    "    #create the keys for the lat/lon files, this is their path in S3\n",
    "    lat_key = 'data/{}/{}/lat.csv'.format(year, month)\n",
    "    lon_key = 'data/{}/{}/lon.csv'.format(year, month)\n",
    "    \n",
    "    #pandas 0.20 uses s3fs to access S3 objects now (previous versions used boto or boto3)\n",
    "    print('Reading latitude')\n",
    "    lat = pd.read_csv(s3.open('{}/{}'.format(bucket, lat_key), mode='rb'), parse_dates=True, index_col=0)\n",
    "    print('Reading longitude')\n",
    "    lon = pd.read_csv(s3.open('{}/{}'.format(bucket, lon_key), mode='rb'), parse_dates=True, index_col=0)\n",
    "    print('Reading velocity')\n",
    "    outflw1 = read_outflw1(year, month, s3, bucket)\n",
    "    print('Reading salinity')\n",
    "    avesal = read_avesalD(year, month, s3, bucket)\n",
    "    print('Done!')\n",
    "\n",
    "#put in the plotting function here\n",
    "#def hw(b):\n",
    "#    print('Hello World!')"
   ]
  },
  {
   "cell_type": "code",
   "execution_count": 10,
   "metadata": {},
   "outputs": [
    {
     "data": {
      "application/vnd.jupyter.widget-view+json": {
       "model_id": "3238e78754834a1e9ceaef802032cb13"
      }
     },
     "metadata": {},
     "output_type": "display_data"
    },
    {
     "data": {
      "application/vnd.jupyter.widget-view+json": {
       "model_id": "9ce3fc5885eb40a3a26397d5dc9c005e"
      }
     },
     "metadata": {},
     "output_type": "display_data"
    },
    {
     "data": {
      "application/vnd.jupyter.widget-view+json": {
       "model_id": "02b853dfe39c46ab85ed1d1bf67242c3"
      }
     },
     "metadata": {},
     "output_type": "display_data"
    },
    {
     "name": "stdout",
     "output_type": "stream",
     "text": [
      "Reading latitude\n",
      "Reading longitude\n",
      "Reading velocity\n",
      "Reading salinity\n",
      "Done!\n",
      "Hello World!\n"
     ]
    }
   ],
   "source": [
    "year_dropdown = widgets.Dropdown(\n",
    "    options = ['1993', '1995', '1997', '2007', '2009', '2011'],\n",
    "    value = '1993',\n",
    "    description = 'Year:',\n",
    ")\n",
    "\n",
    "month_dropdown = widgets.Dropdown(\n",
    "    options = ['April', 'May', 'June', 'July', 'August'],\n",
    "    value = 'April',\n",
    "    description = 'Month:',\n",
    ")\n",
    "\n",
    "submit_button = widgets.Button(\n",
    "    description = 'Get Data',\n",
    "    button_style = 'info',\n",
    "    tooltip = 'Click here to start downloading the appropriate data',\n",
    "    icon = 'check',\n",
    ")\n",
    "\n",
    "display(year_dropdown, month_dropdown, submit_button)\n",
    "\n",
    "submit_button.on_click(read_data)\n",
    "#call the plotting function here\n",
    "#submit_button.on_click(hw)"
   ]
  },
  {
   "cell_type": "code",
   "execution_count": null,
   "metadata": {
    "collapsed": true
   },
   "outputs": [],
   "source": []
  }
 ],
 "metadata": {
  "kernelspec": {
   "display_name": "Python 3",
   "language": "python",
   "name": "python3"
  },
  "language_info": {
   "codemirror_mode": {
    "name": "ipython",
    "version": 3
   },
   "file_extension": ".py",
   "mimetype": "text/x-python",
   "name": "python",
   "nbconvert_exporter": "python",
   "pygments_lexer": "ipython3",
   "version": "3.5.3"
  }
 },
 "nbformat": 4,
 "nbformat_minor": 2
}
