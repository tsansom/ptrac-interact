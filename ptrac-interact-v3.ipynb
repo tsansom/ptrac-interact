{
 "cells": [
  {
   "cell_type": "code",
   "execution_count": 68,
   "metadata": {
    "collapsed": true
   },
   "outputs": [],
   "source": [
    "import ipywidgets as widgets\n",
    "from ipywidgets import Layout, HBox, Label, interact\n",
    "from IPython.display import display, clear_output\n",
    "import pandas as pd\n",
    "from s3fs.core import S3FileSystem\n",
    "import numpy as np\n",
    "import shapefile\n",
    "from shapely.geometry.polygon import LinearRing\n",
    "import cartopy.crs as ccrs\n",
    "import matplotlib.pyplot as plt\n",
    "from matplotlib.mlab import griddata\n",
    "\n",
    "import codecs\n",
    "import json\n",
    "\n",
    "%matplotlib inline\n",
    "\n",
    "from s3_functions import *\n",
    "from shp_functions import *"
   ]
  },
  {
   "cell_type": "code",
   "execution_count": 3,
   "metadata": {
    "collapsed": true
   },
   "outputs": [],
   "source": [
    "s3 = S3FileSystem(anon=True)\n",
    "bucket = 'ptrac-copano'\n",
    "extent = (-97.3, -96.8, 27.9, 28.3)\n",
    "zone_number = 14\n",
    "zone_letter = 'R'\n",
    "month_dict = {\n",
    "    'April': '0401',\n",
    "    'May': '0501',\n",
    "    'June': '0601',\n",
    "    'July': '0701',\n",
    "    'August': '0801',\n",
    "}\n",
    "grid_resolution = 500"
   ]
  },
  {
   "cell_type": "code",
   "execution_count": 4,
   "metadata": {
    "collapsed": true
   },
   "outputs": [],
   "source": [
    "def read_data(year, month, coords):    \n",
    "    #create the keys for the lat/lon files, this is their path in S3\n",
    "    lat_key = 'data/{}/{}/lat.csv'.format(year, month)\n",
    "    lon_key = 'data/{}/{}/lon.csv'.format(year, month)\n",
    "    \n",
    "    #pandas 0.20 uses s3fs to access S3 objects now (previous versions used boto or boto3)\n",
    "    print('Reading latitude')\n",
    "    lat = pd.read_csv(s3.open('{}/{}'.format(bucket, lat_key), mode='rb'), parse_dates=True, index_col=0)\n",
    "    print('Reading longitude')\n",
    "    lon = pd.read_csv(s3.open('{}/{}'.format(bucket, lon_key), mode='rb'), parse_dates=True, index_col=0)\n",
    "    print('Reading velocity')\n",
    "    outflw1 = read_outflw1(year, month, s3, bucket)\n",
    "    print('Reading salinity')\n",
    "    avesal = read_avesalD(year, month, s3, bucket)\n",
    "    print('Done!')\n",
    "    \n",
    "    cn = [int(x) for x in list(outflw1.keys())]\n",
    "    cknodes = coords.loc[cn]\n",
    "    \n",
    "    return lat, lon, outflw1, avesal, cknodes"
   ]
  },
  {
   "cell_type": "code",
   "execution_count": 75,
   "metadata": {
    "collapsed": true
   },
   "outputs": [],
   "source": [
    "def init_plot(extent, geoms):\n",
    "    #ring here is the box where the particles are dropped\n",
    "    ring_lats = [28.142815, 28.142622, 28.128572, 28.128588]\n",
    "    ring_lons = [-97.057931, -97.041549, -97.041542, -97.057923]\n",
    "    ring = LinearRing(list(zip(ring_lons, ring_lats)))\n",
    "    #create the figure\n",
    "    fig = plt.figure(figsize=(12, 12))\n",
    "    ax = fig.add_subplot(111, projection=ccrs.Miller())\n",
    "    ax.set_extent(extent, ccrs.Miller())\n",
    "    #this adds the shapefile\n",
    "    ax.add_geometries(geoms, ccrs.Miller(), facecolor='none', edgecolor='black')\n",
    "    #this adds the ring\n",
    "    ax.add_geometries([ring], ccrs.Miller(), facecolor='none', edgecolor='red')\n",
    "    return ax"
   ]
  },
  {
   "cell_type": "code",
   "execution_count": 93,
   "metadata": {
    "collapsed": true
   },
   "outputs": [],
   "source": [
    "def update_frame(ax, lat, lon, outflw1, cknodes, coords_clipped, grid_resolution, avesal, mask, index):\n",
    "    '''\n",
    "    The index here is on a 30 minute interval, while the index for outflw1 is one hour\n",
    "    and the index for avesal is daily...\n",
    "    \n",
    "    need to get the index for these that's closest to the index passed to the function\n",
    "    '''\n",
    "    print('Index = {}'.format(index))\n",
    "    o_index = outflw1[list(outflw1.keys())[0]].index.get_loc(index, method='nearest')\n",
    "    a_index = avesal.index.get_loc(index, method='nearest')\n",
    "    \n",
    "    time_text = ax.text(0.02, 0.93, index, bbox=dict(facecolor='lightgray', alpha=1), \n",
    "                        fontsize=14, weight='medium', transform=ax.transAxes)\n",
    "    sctr = ax.scatter(lon.loc[index], lat.loc[index], marker='.', facecolor='lime', edgecolor='k', linewidth=0.1, s=25)\n",
    "    u = [outflw1[k]['u'][o_index] for k in outflw1]\n",
    "    v = [outflw1[k]['v'][o_index] for k in outflw1]\n",
    "    quiv = ax.quiver(cknodes['lon'], cknodes['lat'], u, v, scale=8, facecolor='white',\n",
    "                     edgecolors='black', linewidth=0.3)\n",
    "    lati = np.linspace(coords_clipped['lat'].min(), coords_clipped['lat'].max(), grid_resolution)\n",
    "    loni = np.linspace(coords_clipped['lon'].min(), coords_clipped['lon'].max(), grid_resolution)\n",
    "    sal = np.array(avesal[coords_clipped.index].iloc[a_index])\n",
    "    sali = griddata(coords_clipped['lon'], coords_clipped['lat'], sal, loni, lati, interp='linear')\n",
    "    sali.mask = ~mask\n",
    "    levels = np.arange(0, 30.5, 0.5)\n",
    "    ticks = np.arange(0, 30.5, 2)\n",
    "    contf = ax.contourf(loni, lati, sali, zorder=0, cmap=plt.cm.seismic, vmin=0, vmax=30, \n",
    "                        levels=levels, extend='max', alpha=0.7)\n",
    "    plt.show()"
   ]
  },
  {
   "cell_type": "code",
   "execution_count": 96,
   "metadata": {
    "collapsed": true
   },
   "outputs": [],
   "source": [
    "class widget_handler():\n",
    "    def __init__(self):\n",
    "        self.year_dropdown = widgets.Dropdown(\n",
    "            options = ['1993', '1995', '1997', '2007', '2009', '2011'],\n",
    "            value = '1993',\n",
    "            description = 'Year:',\n",
    "        )\n",
    "        \n",
    "        self.month_dropdown = widgets.Dropdown(\n",
    "            #options = ['April', 'May', 'June', 'July', 'August'],\n",
    "            options = ['0401', '0501', '0601', '0701', '0801'],\n",
    "            #value = 'April',\n",
    "            value = '0401',\n",
    "            description = 'Month:',\n",
    "        )\n",
    "        \n",
    "        self.get_data = widgets.Button(\n",
    "            description = 'Get Data',\n",
    "            button_style = 'info',\n",
    "            tooltip = 'Click here to start downloading the appropriate data',\n",
    "            icon = '',\n",
    "        )\n",
    "        \n",
    "        self.init_plot = widgets.Button(\n",
    "            description = 'Initialize Plot',\n",
    "            button_style = '',\n",
    "            tooltip = 'Click here to initialize the plot with appropriate data',\n",
    "            icon = '',\n",
    "            disabled = True,\n",
    "        )        \n",
    "        \n",
    "        #add print statements to these so it doesn't look stalled\n",
    "        print('Reading coordinates')\n",
    "        self.coords, self.coords_clipped, self.loni, self.lati = read_coords(zone_number, zone_letter,\n",
    "                                                                             extent, grid_resolution,\n",
    "                                                                             s3, bucket)\n",
    "        print('Reading shapefile')\n",
    "        self.r, self.polygon, self.geoms = read_shapefile(s3, bucket)\n",
    "        print('Reading mask')\n",
    "        self.mask = read_mask(s3, bucket)\n",
    "        \n",
    "        clear_output()\n",
    "        \n",
    "        self.get_data.on_click(self.get_data_click)\n",
    "        self.init_plot.on_click(self.init_plot_click)\n",
    "        \n",
    "        display(self.year_dropdown, self.month_dropdown, self.get_data, self.init_plot)\n",
    "        \n",
    "    def get_data_click(self, b):\n",
    "        self.year = self.year_dropdown.get_interact_value()\n",
    "        self.month = self.month_dropdown.get_interact_value()\n",
    "        clear_output()\n",
    "        self.lat, self.lon, self.outflw1, self.avesal, self.cknodes = read_data(self.year, self.month, self.coords)\n",
    "        self.get_data.set_trait('icon', 'check')\n",
    "        self.get_data.set_trait('button_style', 'success')\n",
    "        self.init_plot.set_trait('disabled', False)\n",
    "        self.init_plot.set_trait('button_style', 'info')\n",
    "        \n",
    "    def init_plot_click(self, b):\n",
    "        clear_output()\n",
    "        self.ax = init_plot(extent, self.geoms)\n",
    "        #self.index = self.lon.index[0]\n",
    "        #update_frame(self.ax, self.lat, self.lon, self.outflw1, self.cknodes, \n",
    "        #             self.coords_clipped, grid_resolution, self.avesal, self.mask, \n",
    "        #             self.index)\n",
    "        self.init_plot.set_trait('icon', 'check')\n",
    "        self.init_plot.set_trait('button_style', 'success')\n",
    "        \n",
    "        #self.date_slider = widgets.SelectionSlider(\n",
    "        #    options=self.lon.index.tolist(), \n",
    "        #    description='Dates',\n",
    "        #    layout=Layout(width='75%', margin='20px'),\n",
    "        #)\n",
    "        #display(HBox([self.date_slider]))\n",
    "        # \n",
    "        #self.date_slider.observe(self.slider_change)\n",
    "        interact(\n",
    "            update_frame, \n",
    "            ax=fixed(self.ax),\n",
    "            lat=fixed(self.lat),\n",
    "            lon=fixed(self.lon),\n",
    "            outflw1=fixed(self.outflw1),\n",
    "            cknodes=fixed(self.cknodes),\n",
    "            coords_clipped=fixed(self.coords_clipped),\n",
    "            grid_resolution=fixed(grid_resolution),\n",
    "            avesal=fixed(self.avesal),\n",
    "            mask=fixed(self.mask),\n",
    "            index=widgets.SelectionSlider(\n",
    "                options=self.lon.index.tolist(),\n",
    "                description='Dates',\n",
    "            )\n",
    "        )\n",
    "        \n",
    "    def slider_change(self, b):\n",
    "        print('slider changed')\n",
    "        self.index = self.date_slider.get_interact_value()\n",
    "        update_frame(self.ax, self.lat, self.lon, self.outflw1, self.cknodes,\n",
    "                     self.coords_clipped, grid_resolution, self.avesal, self.mask,\n",
    "                     self.index)"
   ]
  },
  {
   "cell_type": "code",
   "execution_count": 97,
   "metadata": {},
   "outputs": [
    {
     "data": {
      "application/vnd.jupyter.widget-view+json": {
       "model_id": "5a472c73f3c34212825f1a4a4a03cad6"
      }
     },
     "metadata": {},
     "output_type": "display_data"
    }
   ],
   "source": [
    "f = widget_handler()"
   ]
  },
  {
   "cell_type": "code",
   "execution_count": null,
   "metadata": {
    "collapsed": true
   },
   "outputs": [],
   "source": []
  }
 ],
 "metadata": {
  "kernelspec": {
   "display_name": "Python 3",
   "language": "python",
   "name": "python3"
  },
  "language_info": {
   "codemirror_mode": {
    "name": "ipython",
    "version": 3
   },
   "file_extension": ".py",
   "mimetype": "text/x-python",
   "name": "python",
   "nbconvert_exporter": "python",
   "pygments_lexer": "ipython3",
   "version": "3.6.1"
  }
 },
 "nbformat": 4,
 "nbformat_minor": 2
}
