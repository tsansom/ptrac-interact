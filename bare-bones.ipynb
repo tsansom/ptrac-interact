{
 "cells": [
  {
   "cell_type": "code",
   "execution_count": 30,
   "metadata": {},
   "outputs": [],
   "source": [
    "import ipywidgets as widgets\n",
    "from ipywidgets import Layout, HBox, Label\n",
    "from IPython.display import display\n",
    "import matplotlib.pyplot as plt\n",
    "%matplotlib inline\n",
    "\n",
    "\n",
    "def get_data():\n",
    "    print('getting data')\n",
    "    return ['1', '2', '3', '4', '5']\n",
    "\n",
    "def init_plot():\n",
    "    fig = plt.figure()\n",
    "    ax = fig.add_subplot(111)\n",
    "    plt_text = ax.text(0.5, 0.5, 'value', transform=ax.transAxes)\n",
    "    return ax, plt_text\n",
    "\n",
    "def change_text(plt_text):\n",
    "    print('changing text')\n",
    "    plt_text.set_text('plot text won\\'t change')\n",
    "\n",
    "\n",
    "class widget_handler():\n",
    "    def __init__(self):\n",
    "        self.get_data_button = widgets.Button(\n",
    "            description='Get Data',\n",
    "            button_style='info',\n",
    "        )\n",
    "        \n",
    "        self.make_plot_button = widgets.Button(\n",
    "            description='Make Plot',\n",
    "            button_style='info',\n",
    "        )\n",
    "        \n",
    "        self.change_text_button = widgets.Button(\n",
    "            description='Add Text',\n",
    "            button_style='info',\n",
    "        )\n",
    "        \n",
    "        self.get_data_button.on_click(self.get_data_click)\n",
    "        self.make_plot_button.on_click(self.make_plot_click)\n",
    "        self.change_text_button.on_click(self.change_text_click)\n",
    "        \n",
    "        display(self.get_data_button, self.make_plot_button, self.change_text_button)\n",
    "        \n",
    "    def get_data_click(self, b):\n",
    "        self.data = get_data()\n",
    "    \n",
    "    def make_plot_click(self, b):\n",
    "        self.ax, self.plt_text = init_plot()\n",
    "        #can change the text here and plot is updated\n",
    "        self.plt_text.set_text('changed')\n",
    "    \n",
    "    def change_text_click(self, b):\n",
    "        print('original text: {}'.format(self.plt_text.get_text()))\n",
    "        #can change text here but doesn't update plot\n",
    "        change_text(self.plt_text)\n",
    "        print('new text: {}'.format(self.plt_text.get_text()))"
   ]
  },
  {
   "cell_type": "code",
   "execution_count": 31,
   "metadata": {},
   "outputs": [
    {
     "data": {
      "application/vnd.jupyter.widget-view+json": {
       "model_id": "c670b3c0bac34cb2b6abea9e6291d5fc"
      }
     },
     "metadata": {},
     "output_type": "display_data"
    },
    {
     "data": {
      "application/vnd.jupyter.widget-view+json": {
       "model_id": "a7687308b17941e697fdabde10f54f2a"
      }
     },
     "metadata": {},
     "output_type": "display_data"
    },
    {
     "data": {
      "application/vnd.jupyter.widget-view+json": {
       "model_id": "139ff001bfa741298b6bfa6f699086d8"
      }
     },
     "metadata": {},
     "output_type": "display_data"
    },
    {
     "name": "stdout",
     "output_type": "stream",
     "text": [
      "getting data\n"
     ]
    },
    {
     "data": {
      "image/png": "[encoded data removed]",
      "text/plain": [
       "<matplotlib.figure.Figure at 0x8a38470>"
      ]
     },
     "metadata": {},
     "output_type": "display_data"
    }
   ],
   "source": [
    "f = widget_handler()"
   ]
  },
  {
   "cell_type": "code",
   "execution_count": 62,
   "metadata": {
    "collapsed": true
   },
   "outputs": [],
   "source": [
    "class foo():\n",
    "    def __init__(self):\n",
    "        self.txt = 'original'\n",
    "    def make_plot(self):\n",
    "        self.fig = plt.figure()\n",
    "        self.ax = self.fig.add_subplot(111)\n",
    "        self.plt_txt = self.ax.text(0.5,0.5,self.txt,transform=self.ax.transAxes)\n",
    "    def change(self):\n",
    "        self.txt = 'changed'"
   ]
  },
  {
   "cell_type": "code",
   "execution_count": 63,
   "metadata": {},
   "outputs": [],
   "source": [
    "x = foo()"
   ]
  },
  {
   "cell_type": "code",
   "execution_count": 64,
   "metadata": {},
   "outputs": [
    {
     "data": {
      "image/png": "[encoded data removed]",
      "text/plain": [
       "<matplotlib.figure.Figure at 0x9e0bcf8>"
      ]
     },
     "metadata": {},
     "output_type": "display_data"
    }
   ],
   "source": [
    "x.make_plot()"
   ]
  },
  {
   "cell_type": "code",
   "execution_count": 65,
   "metadata": {},
   "outputs": [],
   "source": [
    "x.change()"
   ]
  },
  {
   "cell_type": "code",
   "execution_count": 66,
   "metadata": {},
   "outputs": [
    {
     "data": {
      "image/png": "[encoded data removed]",
      "text/plain": [
       "<matplotlib.figure.Figure at 0x9e54320>"
      ]
     },
     "metadata": {},
     "output_type": "display_data"
    }
   ],
   "source": [
    "x.make_plot()"
   ]
  },
  {
   "cell_type": "code",
   "execution_count": null,
   "metadata": {
    "collapsed": true
   },
   "outputs": [],
   "source": []
  }
 ],
 "metadata": {
  "kernelspec": {
   "display_name": "Python 3",
   "language": "python",
   "name": "python3"
  },
  "language_info": {
   "codemirror_mode": {
    "name": "ipython",
    "version": 3
   },
   "file_extension": ".py",
   "mimetype": "text/x-python",
   "name": "python",
   "nbconvert_exporter": "python",
   "pygments_lexer": "ipython3",
   "version": "3.6.1"
  }
 },
 "nbformat": 4,
 "nbformat_minor": 2
}
