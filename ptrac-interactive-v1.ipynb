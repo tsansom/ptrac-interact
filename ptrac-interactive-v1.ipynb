{
 "cells": [
  {
   "cell_type": "code",
   "execution_count": 1,
   "metadata": {
    "collapsed": true
   },
   "outputs": [],
   "source": [
    "import ipywidgets as widgets\n",
    "from IPython.display import display\n",
    "import pandas as pd\n",
    "from s3fs.core import S3FileSystem\n",
    "import numpy as np\n",
    "import shapefile"
   ]
  },
  {
   "cell_type": "markdown",
   "metadata": {},
   "source": [
    "## Functions"
   ]
  },
  {
   "cell_type": "code",
   "execution_count": 2,
   "metadata": {},
   "outputs": [],
   "source": [
    "from s3_functions import *\n",
    "from shp_functions import *"
   ]
  },
  {
   "cell_type": "code",
   "execution_count": 3,
   "metadata": {
    "collapsed": true
   },
   "outputs": [],
   "source": [
    "def on_button_click(b):\n",
    "    #since the on_click functions doesn't return anything, need to make these global\n",
    "    global lat, lon, outflw1, coords, avesal, avesal_coords\n",
    "    \n",
    "    #get the current state of the dropdown widgets\n",
    "    year = year_dropdown.get_interact_value()\n",
    "    month = month_dict[month_dropdown.get_interact_value()]\n",
    "    \n",
    "    #create the keys for the lat/lon files, this is their path in S3\n",
    "    lat_key = 'data/{}/{}/lat.csv'.format(year, month)\n",
    "    lon_key = 'data/{}/{}/lon.csv'.format(year, month)\n",
    "    \n",
    "    #pandas 0.20 uses s3fs to access S3 objects now (previous versions used boto or boto3)\n",
    "    print('Reading latitude')\n",
    "    lat = pd.read_csv(s3.open('{}/{}'.format(bucket, lat_key), mode='rb'), parse_dates=True, index_col=0)\n",
    "    print('Reading longitude')\n",
    "    lon = pd.read_csv(s3.open('{}/{}'.format(bucket, lon_key), mode='rb'), parse_dates=True, index_col=0)\n",
    "    print('Reading velocity')\n",
    "    outflw1 = read_outflw1(year, month, s3, bucket)\n",
    "    print('Reading coordinates')\n",
    "    coords = read_coords(year, month, zone_number, zone_letter, s3, bucket)\n",
    "    print('Reading salinity')\n",
    "    avesal, avesal_coords = read_avesalD(year, month, s3, bucket, coords, extent)\n",
    "    print('Done!')"
   ]
  },
  {
   "cell_type": "code",
   "execution_count": 4,
   "metadata": {},
   "outputs": [
    {
     "data": {
      "application/vnd.jupyter.widget-view+json": {
       "model_id": "89bcebe9156c44a8bb040449a773e445"
      }
     },
     "metadata": {},
     "output_type": "display_data"
    },
    {
     "data": {
      "application/vnd.jupyter.widget-view+json": {
       "model_id": "30b6ccaec6bb449a98da3bd3aee7f7f1"
      }
     },
     "metadata": {},
     "output_type": "display_data"
    },
    {
     "data": {
      "application/vnd.jupyter.widget-view+json": {
       "model_id": "a4826326bc5d46ef88b2818107c80687"
      }
     },
     "metadata": {},
     "output_type": "display_data"
    },
    {
     "name": "stdout",
     "output_type": "stream",
     "text": [
      "Reading latitude\n",
      "Reading longitude\n",
      "Reading velocity\n",
      "Reading coordinates\n",
      "Reading salinity\n",
      "Done!\n"
     ]
    }
   ],
   "source": [
    "s3 = S3FileSystem(anon=True)\n",
    "bucket = 'ptrac-copano'\n",
    "month_dict = {\n",
    "    'April': '0401',\n",
    "    'May': '0501',\n",
    "    'June': '0601',\n",
    "    'July': '0701',\n",
    "    'August': '0801',\n",
    "}\n",
    "zone_number = 14\n",
    "zone_letter = 'R'\n",
    "extent = (-97.4, -96.6, 27.7, 28.44)\n",
    "\n",
    "year_dropdown = widgets.Dropdown(\n",
    "    options = ['1993', '1995', '1997', '2007', '2009', '2011'],\n",
    "    value = '1993',\n",
    "    description = 'Year:',\n",
    ")\n",
    "\n",
    "month_dropdown = widgets.Dropdown(\n",
    "    options = ['April', 'May', 'June', 'July', 'August'],\n",
    "    value = 'April',\n",
    "    description = 'Month:',\n",
    ")\n",
    "\n",
    "submit_button = widgets.Button(\n",
    "    description = 'Get Data',\n",
    "    button_style = 'info',\n",
    "    tooltip = 'Click here to start downloading the appropriate data',\n",
    "    icon = 'check',\n",
    ")\n",
    "\n",
    "display(year_dropdown, month_dropdown, submit_button)\n",
    "\n",
    "submit_button.on_click(on_button_click)"
   ]
  },
  {
   "cell_type": "markdown",
   "metadata": {},
   "source": [
    "# This will read the shapefile and convert to a list of geometries"
   ]
  },
  {
   "cell_type": "code",
   "execution_count": 5,
   "metadata": {
    "collapsed": true
   },
   "outputs": [],
   "source": [
    "from cartopy.io.shapereader import Reader\n",
    "import shapefile\n",
    "\n",
    "shp_key = 'data/shapefile/CBclosed.shp'\n",
    "dbf_key = 'data/shapefile/CBclosed.dbf'\n",
    "shx_key = 'data/shapefile/CBclosed.shx'\n",
    "shp_file = s3.open('{}/{}'.format(bucket, shp_key), mode='rb')\n",
    "dbf_file = s3.open('{}/{}'.format(bucket, dbf_key), mode='rb')\n",
    "shx_file = s3.open('{}/{}'.format(bucket, shx_key), mode='rb')\n",
    "\n",
    "r = shapefile.Reader(shp=shp_file, dbf=dbf_file, shx=shx_file)\n",
    "\n",
    "geoms = []\n",
    "for i in range(r.numRecords):\n",
    "    geoms.append(create_polygon(r.shape(i)))"
   ]
  },
  {
   "cell_type": "code",
   "execution_count": 6,
   "metadata": {
    "collapsed": true
   },
   "outputs": [],
   "source": [
    "max_area = 0\n",
    "max_area_id = 0\n",
    "for i in range(len(geoms)):\n",
    "    if geoms[i].area > max_area:\n",
    "        max_area = geoms[i].area\n",
    "        max_area_id = i\n",
    "        polygon = geoms[i]"
   ]
  },
  {
   "cell_type": "code",
   "execution_count": 7,
   "metadata": {},
   "outputs": [
    {
     "ename": "NameError",
     "evalue": "name 'avesal_coords' is not defined",
     "output_type": "error",
     "traceback": [
      "\u001b[1;31m---------------------------------------------------------------------------\u001b[0m",
      "\u001b[1;31mNameError\u001b[0m                                 Traceback (most recent call last)",
      "\u001b[1;32m<ipython-input-7-321774e0eb15>\u001b[0m in \u001b[0;36m<module>\u001b[1;34m()\u001b[0m\n\u001b[1;32m----> 1\u001b[1;33m \u001b[0mlato\u001b[0m \u001b[1;33m=\u001b[0m \u001b[0mnp\u001b[0m\u001b[1;33m.\u001b[0m\u001b[0marray\u001b[0m\u001b[1;33m(\u001b[0m\u001b[0mavesal_coords\u001b[0m\u001b[1;33m[\u001b[0m\u001b[1;34m'lat'\u001b[0m\u001b[1;33m]\u001b[0m\u001b[1;33m)\u001b[0m\u001b[1;33m\u001b[0m\u001b[0m\n\u001b[0m\u001b[0;32m      2\u001b[0m \u001b[0mlono\u001b[0m \u001b[1;33m=\u001b[0m \u001b[0mnp\u001b[0m\u001b[1;33m.\u001b[0m\u001b[0marray\u001b[0m\u001b[1;33m(\u001b[0m\u001b[0mavesal_coords\u001b[0m\u001b[1;33m[\u001b[0m\u001b[1;34m'lon'\u001b[0m\u001b[1;33m]\u001b[0m\u001b[1;33m)\u001b[0m\u001b[1;33m\u001b[0m\u001b[0m\n\u001b[0;32m      3\u001b[0m \u001b[0mlati\u001b[0m \u001b[1;33m=\u001b[0m \u001b[0mnp\u001b[0m\u001b[1;33m.\u001b[0m\u001b[0mlinspace\u001b[0m\u001b[1;33m(\u001b[0m\u001b[0mmin\u001b[0m\u001b[1;33m(\u001b[0m\u001b[0mlato\u001b[0m\u001b[1;33m)\u001b[0m\u001b[1;33m,\u001b[0m \u001b[0mmax\u001b[0m\u001b[1;33m(\u001b[0m\u001b[0mlato\u001b[0m\u001b[1;33m)\u001b[0m\u001b[1;33m,\u001b[0m \u001b[1;36m100\u001b[0m\u001b[1;33m)\u001b[0m\u001b[1;33m\u001b[0m\u001b[0m\n\u001b[0;32m      4\u001b[0m \u001b[0mloni\u001b[0m \u001b[1;33m=\u001b[0m \u001b[0mnp\u001b[0m\u001b[1;33m.\u001b[0m\u001b[0mlinspace\u001b[0m\u001b[1;33m(\u001b[0m\u001b[0mmin\u001b[0m\u001b[1;33m(\u001b[0m\u001b[0mlono\u001b[0m\u001b[1;33m)\u001b[0m\u001b[1;33m,\u001b[0m \u001b[0mmax\u001b[0m\u001b[1;33m(\u001b[0m\u001b[0mlono\u001b[0m\u001b[1;33m)\u001b[0m\u001b[1;33m,\u001b[0m \u001b[1;36m100\u001b[0m\u001b[1;33m)\u001b[0m\u001b[1;33m\u001b[0m\u001b[0m\n\u001b[0;32m      5\u001b[0m \u001b[0mglon\u001b[0m\u001b[1;33m,\u001b[0m \u001b[0mglat\u001b[0m \u001b[1;33m=\u001b[0m \u001b[0mnp\u001b[0m\u001b[1;33m.\u001b[0m\u001b[0mmeshgrid\u001b[0m\u001b[1;33m(\u001b[0m\u001b[0mloni\u001b[0m\u001b[1;33m,\u001b[0m \u001b[0mlati\u001b[0m\u001b[1;33m)\u001b[0m\u001b[1;33m\u001b[0m\u001b[0m\n",
      "\u001b[1;31mNameError\u001b[0m: name 'avesal_coords' is not defined"
     ]
    }
   ],
   "source": [
    "lato = np.array(avesal_coords['lat'])\n",
    "lono = np.array(avesal_coords['lon'])\n",
    "lati = np.linspace(min(lato), max(lato), 100)\n",
    "loni = np.linspace(min(lono), max(lono), 100)\n",
    "glon, glat = np.meshgrid(loni, lati)"
   ]
  },
  {
   "cell_type": "code",
   "execution_count": null,
   "metadata": {},
   "outputs": [],
   "source": [
    "mask = inpolygon(polygon, glon.ravel(), glat.ravel())\n",
    "mask = mask.reshape(glon.shape)"
   ]
  },
  {
   "cell_type": "code",
   "execution_count": null,
   "metadata": {
    "collapsed": true
   },
   "outputs": [],
   "source": []
  }
 ],
 "metadata": {
  "kernelspec": {
   "display_name": "Python 3",
   "language": "python",
   "name": "python3"
  },
  "language_info": {
   "codemirror_mode": {
    "name": "ipython",
    "version": 3
   },
   "file_extension": ".py",
   "mimetype": "text/x-python",
   "name": "python",
   "nbconvert_exporter": "python",
   "pygments_lexer": "ipython3",
   "version": "3.6.1"
  }
 },
 "nbformat": 4,
 "nbformat_minor": 2
}
