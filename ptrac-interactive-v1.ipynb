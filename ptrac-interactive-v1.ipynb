{
 "cells": [
  {
   "cell_type": "markdown",
   "metadata": {},
   "source": [
    "## Import Libraries and Functions"
   ]
  },
  {
   "cell_type": "code",
   "execution_count": 1,
   "metadata": {
    "collapsed": true
   },
   "outputs": [],
   "source": [
    "#libraries\n",
    "import ipywidgets as widgets\n",
    "from IPython.display import display\n",
    "import pandas as pd\n",
    "from s3fs.core import S3FileSystem\n",
    "import numpy as np\n",
    "import shapefile\n",
    "#from shapely.geometry.polygon import LinearRing\n",
    "import cartopy.crs as ccrs\n",
    "import matplotlib.pyplot as plt\n",
    "\n",
    "import codecs\n",
    "import json\n",
    "\n",
    "%matplotlib inline\n",
    "\n",
    "#functions\n",
    "from s3_functions import *\n",
    "from shp_functions import *"
   ]
  },
  {
   "cell_type": "markdown",
   "metadata": {},
   "source": [
    "## Define constants"
   ]
  },
  {
   "cell_type": "code",
   "execution_count": 2,
   "metadata": {
    "collapsed": true
   },
   "outputs": [],
   "source": [
    "s3 = S3FileSystem(anon=True)\n",
    "bucket = 'ptrac-copano'\n",
    "extent = (-97.4, -96.6, 27.7, 28.44)\n",
    "zone_number = 14\n",
    "zone_letter = 'R'\n",
    "month_dict = {\n",
    "    'April': '0401',\n",
    "    'May': '0501',\n",
    "    'June': '0601',\n",
    "    'July': '0701',\n",
    "    'August': '0801',\n",
    "}\n",
    "#s3.\n",
    "\n",
    "\n"
   ]
  },
  {
   "cell_type": "markdown",
   "metadata": {},
   "source": [
    "## Read the coordinates, shapefile, and make the plotting mask"
   ]
  },
  {
   "cell_type": "code",
   "execution_count": 3,
   "metadata": {},
   "outputs": [
    {
     "name": "stdout",
     "output_type": "stream",
     "text": [
      "Reading coordinates\n",
      "Reading shapefile\n",
      "Reading mask\n",
      "Done!\n"
     ]
    }
   ],
   "source": [
    "print('Reading coordinates')\n",
    "coords = read_coords(zone_number, zone_letter, extent, s3, bucket)\n",
    "print('Reading shapefile')\n",
    "r, polygon, geoms = read_shapefile(s3, bucket)\n",
    "#print('Creating mask')\n",
    "#mask, lati, loni = create_mask(coords, polygon)\n",
    "print('Reading mask')\n",
    "#need to read it from s3\n",
    "mask = read_mask(s3, bucket)\n",
    "#mask = np.array(json.loads(codecs.open(file_path, 'r', encoding='utf_8').read()))\n",
    "print('Done!')"
   ]
  },
  {
   "cell_type": "markdown",
   "metadata": {},
   "source": [
    "#### Figure out a way to get the mask.json back and into an np array"
   ]
  },
  {
   "cell_type": "markdown",
   "metadata": {},
   "source": [
    "## Define what happens when buttons are clicked"
   ]
  },
  {
   "cell_type": "code",
   "execution_count": 4,
   "metadata": {
    "collapsed": true
   },
   "outputs": [],
   "source": [
    "def read_data(b):\n",
    "    #since the on_click functions doesn't return anything, need to make these global\n",
    "    global lat, lon, outflw1, coords, avesal\n",
    "    \n",
    "    #get the current state of the dropdown widgets\n",
    "    year = year_dropdown.get_interact_value()\n",
    "    month = month_dict[month_dropdown.get_interact_value()]\n",
    "    \n",
    "    #create the keys for the lat/lon files, this is their path in S3\n",
    "    lat_key = 'data/{}/{}/lat.csv'.format(year, month)\n",
    "    lon_key = 'data/{}/{}/lon.csv'.format(year, month)\n",
    "    \n",
    "    #pandas 0.20 uses s3fs to access S3 objects now (previous versions used boto or boto3)\n",
    "    print('Reading latitude')\n",
    "    lat = pd.read_csv(s3.open('{}/{}'.format(bucket, lat_key), mode='rb'), parse_dates=True, index_col=0)\n",
    "    print('Reading longitude')\n",
    "    lon = pd.read_csv(s3.open('{}/{}'.format(bucket, lon_key), mode='rb'), parse_dates=True, index_col=0)\n",
    "    print('Reading velocity')\n",
    "    outflw1 = read_outflw1(year, month, s3, bucket)\n",
    "    print('Reading salinity')\n",
    "    avesal = read_avesalD(year, month, s3, bucket)\n",
    "    print('Done!')\n",
    "\n"
   ]
  },
  {
   "cell_type": "markdown",
   "metadata": {},
   "source": [
    "#### Try to initialize the plot"
   ]
  },
  {
   "cell_type": "code",
   "execution_count": 5,
   "metadata": {},
   "outputs": [
    {
     "data": {
      "text/plain": [
       "<cartopy.mpl.feature_artist.FeatureArtist at 0x10e1d0358>"
      ]
     },
     "execution_count": 5,
     "metadata": {},
     "output_type": "execute_result"
    },
    {
     "data": {
      "image/png": "[encoded data removed]",
      "text/plain": [
       "<matplotlib.figure.Figure at 0x10c22e908>"
      ]
     },
     "metadata": {},
     "output_type": "display_data"
    }
   ],
   "source": [
    "#ring_lats = [28.142815, 28.142622, 28.128572, 28.128588]\n",
    "#ring_lons = [-97.057931, -97.041549, -97.041542, -97.057923]\n",
    "#ring = LinearRing(list(zip(ring_lons, ring_lats)))\n",
    "fig = plt.figure(figsize=(12,12))\n",
    "ax = fig.add_subplot(111, projection=ccrs.Miller())\n",
    "#ax.set_extent(extent, ccrs.Miller())\n",
    "ax.add_geometries(geoms, ccrs.Miller(), facecolor='none', edgecolor='black')"
   ]
  },
  {
   "cell_type": "code",
   "execution_count": null,
   "metadata": {
    "collapsed": true
   },
   "outputs": [],
   "source": [
    "ax.set_extent(extent, ccrs.Miller())"
   ]
  },
  {
   "cell_type": "markdown",
   "metadata": {},
   "source": [
    "## Create the widgets and buttons"
   ]
  },
  {
   "cell_type": "code",
   "execution_count": 5,
   "metadata": {},
   "outputs": [
    {
     "data": {
      "application/vnd.jupyter.widget-view+json": {
       "model_id": "ad65a37d39d64b15b1a91a028ce04a3d"
      }
     },
     "metadata": {},
     "output_type": "display_data"
    },
    {
     "data": {
      "application/vnd.jupyter.widget-view+json": {
       "model_id": "87dd8932c12540799d4e991d7d85b5d4"
      }
     },
     "metadata": {},
     "output_type": "display_data"
    },
    {
     "data": {
      "application/vnd.jupyter.widget-view+json": {
       "model_id": "e5d34131aca24ed08ab2c84ff411eb44"
      }
     },
     "metadata": {},
     "output_type": "display_data"
    },
    {
     "name": "stdout",
     "output_type": "stream",
     "text": [
      "Reading latitude\n",
      "Reading longitude\n",
      "Reading velocity\n",
      "Reading salinity\n",
      "Done!\n"
     ]
    }
   ],
   "source": [
    "year_dropdown = widgets.Dropdown(\n",
    "    options = ['1993', '1995', '1997', '2007', '2009', '2011'],\n",
    "    value = '1993',\n",
    "    description = 'Year:',\n",
    ")\n",
    "\n",
    "month_dropdown = widgets.Dropdown(\n",
    "    options = ['April', 'May', 'June', 'July', 'August'],\n",
    "    value = 'April',\n",
    "    description = 'Month:',\n",
    ")\n",
    "\n",
    "submit_button = widgets.Button(\n",
    "    description = 'Get Data',\n",
    "    button_style = 'info',\n",
    "    tooltip = 'Click here to start downloading the appropriate data',\n",
    "    icon = 'check',\n",
    ")\n",
    "\n",
    "display(year_dropdown, month_dropdown, submit_button)\n",
    "\n",
    "submit_button.on_click(read_data)\n",
    "#call the plotting function here\n",
    "#submit_button.on_click(hw)"
   ]
  },
  {
   "cell_type": "code",
   "execution_count": null,
   "metadata": {
    "collapsed": true
   },
   "outputs": [],
   "source": []
  }
 ],
 "metadata": {
  "kernelspec": {
   "display_name": "Python [default]",
   "language": "python",
   "name": "python3"
  },
  "language_info": {
   "codemirror_mode": {
    "name": "ipython",
    "version": 3
   },
   "file_extension": ".py",
   "mimetype": "text/x-python",
   "name": "python",
   "nbconvert_exporter": "python",
   "pygments_lexer": "ipython3",
   "version": "3.5.3"
  }
 },
 "nbformat": 4,
 "nbformat_minor": 2
}
