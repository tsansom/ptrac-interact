{
 "cells": [
  {
   "cell_type": "code",
   "execution_count": 1,
   "metadata": {
    "collapsed": true
   },
   "outputs": [],
   "source": [
    "#libraries\n",
    "import ipywidgets as widgets\n",
    "from ipywidgets import Layout, HBox, Label\n",
    "from IPython.display import display, clear_output\n",
    "import pandas as pd\n",
    "from s3fs.core import S3FileSystem\n",
    "import numpy as np\n",
    "import shapefile\n",
    "from shapely.geometry.polygon import LinearRing\n",
    "import cartopy.crs as ccrs\n",
    "import matplotlib.pyplot as plt\n",
    "from matplotlib.mlab import griddata\n",
    "\n",
    "import codecs\n",
    "import json\n",
    "\n",
    "%matplotlib inline\n",
    "\n",
    "#functions\n",
    "from s3_functions import *\n",
    "from shp_functions import *"
   ]
  },
  {
   "cell_type": "code",
   "execution_count": 2,
   "metadata": {
    "collapsed": true
   },
   "outputs": [],
   "source": [
    "s3 = S3FileSystem(anon=True)\n",
    "bucket = 'ptrac-copano'\n",
    "extent = (-97.3, -96.8, 27.9, 28.3)\n",
    "zone_number = 14\n",
    "zone_letter = 'R'\n",
    "month_dict = {\n",
    "    'April': '0401',\n",
    "    'May': '0501',\n",
    "    'June': '0601',\n",
    "    'July': '0701',\n",
    "    'August': '0801',\n",
    "}\n",
    "grid_resolution = 500"
   ]
  },
  {
   "cell_type": "markdown",
   "metadata": {},
   "source": [
    "## Define the on_click function here"
   ]
  },
  {
   "cell_type": "code",
   "execution_count": 3,
   "metadata": {
    "collapsed": true
   },
   "outputs": [],
   "source": [
    "def read_data(year, month, coords):    \n",
    "    #create the keys for the lat/lon files, this is their path in S3\n",
    "    lat_key = 'data/{}/{}/lat.csv'.format(year, month)\n",
    "    lon_key = 'data/{}/{}/lon.csv'.format(year, month)\n",
    "    \n",
    "    #pandas 0.20 uses s3fs to access S3 objects now (previous versions used boto or boto3)\n",
    "    print('Reading latitude')\n",
    "    lat = pd.read_csv(s3.open('{}/{}'.format(bucket, lat_key), mode='rb'), parse_dates=True, index_col=0)\n",
    "    print('Reading longitude')\n",
    "    lon = pd.read_csv(s3.open('{}/{}'.format(bucket, lon_key), mode='rb'), parse_dates=True, index_col=0)\n",
    "    print('Reading velocity')\n",
    "    outflw1 = read_outflw1(year, month, s3, bucket)\n",
    "    print('Reading salinity')\n",
    "    avesal = read_avesalD(year, month, s3, bucket)\n",
    "    print('Done!')\n",
    "    \n",
    "    cn = [int(x) for x in list(outflw1.keys())]\n",
    "    cknodes = coords.loc[cn]\n",
    "    \n",
    "    return lat, lon, outflw1, avesal, cknodes"
   ]
  },
  {
   "cell_type": "markdown",
   "metadata": {},
   "source": [
    "## Plotting functions here"
   ]
  },
  {
   "cell_type": "code",
   "execution_count": 52,
   "metadata": {
    "collapsed": true
   },
   "outputs": [],
   "source": [
    "def init_plot(extent, geoms):\n",
    "    #ring here is the box where the particles are dropped\n",
    "    ring_lats = [28.142815, 28.142622, 28.128572, 28.128588]\n",
    "    ring_lons = [-97.057931, -97.041549, -97.041542, -97.057923]\n",
    "    ring = LinearRing(list(zip(ring_lons, ring_lats)))\n",
    "    #create the figure\n",
    "    fig = plt.figure(figsize=(12, 12))\n",
    "    ax = fig.add_subplot(111, projection=ccrs.Miller())\n",
    "    ax.set_extent(extent, ccrs.Miller())\n",
    "    #this adds the shapefile\n",
    "    ax.add_geometries(geoms, ccrs.Miller(), facecolor='none', edgecolor='black')\n",
    "    #this adds the ring\n",
    "    ax.add_geometries([ring], ccrs.Miller(), facecolor='none', edgecolor='red')\n",
    "    return ax\n",
    "    \n",
    "def first_frame(ax, lat, lon, outflw1, cknodes, coords_clipped, grid_resolution, avesal, mask):\n",
    "    index = lon.index[0]\n",
    "    time_text = ax.text(0.02, 0.93, index, bbox=dict(facecolor='lightgray', alpha=1), \n",
    "                        fontsize=14, weight='medium', transform=ax.transAxes)\n",
    "    #sctr = ax.scatter(lon.iloc[0], lat.iloc[0])\n",
    "    sctr = ax.scatter(lon.iloc[100], lat.iloc[100], marker='.', facecolor='lime', edgecolor='k', linewidth=0.1, s=25)\n",
    "    u = [outflw1[k]['u'][0] for k in outflw1]\n",
    "    v = [outflw1[k]['v'][0] for k in outflw1]\n",
    "    quiv = ax.quiver(cknodes['lon'], cknodes['lat'], u, v, scale=8, facecolor='white',\n",
    "                     edgecolors='black', linewidth=0.3)\n",
    "\n",
    "    lati = np.linspace(coords_clipped['lat'].min(), coords_clipped['lat'].max(), grid_resolution)\n",
    "    loni = np.linspace(coords_clipped['lon'].min(), coords_clipped['lon'].max(), grid_resolution)\n",
    "\n",
    "    sal = np.array(avesal[coords_clipped.index].iloc[0])\n",
    "    sali = griddata(coords_clipped['lon'], coords_clipped['lat'], sal, loni, lati, interp='linear')\n",
    "    sali.mask = ~mask\n",
    "    levels = np.arange(0, 30.5, 0.5)\n",
    "    ticks = np.arange(0, 30.5, 2)\n",
    "    contf = ax.contourf(loni, lati, sali, zorder=0, cmap=plt.cm.seismic, vmin=0, vmax=30, \n",
    "                        levels=levels, extend='max', alpha=0.7)\n",
    "    return time_text, sctr, quiv, lati, loni, levels, ticks, contf\n",
    "\n",
    "def update_plot(time_text, new_text):\n",
    "    time_text.set_text(new_text)"
   ]
  },
  {
   "cell_type": "markdown",
   "metadata": {},
   "source": [
    "## Try creating a class to handle widget on_click"
   ]
  },
  {
   "cell_type": "code",
   "execution_count": 53,
   "metadata": {},
   "outputs": [],
   "source": [
    "class widget_handler():\n",
    "    def __init__(self):\n",
    "        self.year_dropdown = widgets.Dropdown(\n",
    "            options = ['1993', '1995', '1997', '2007', '2009', '2011'],\n",
    "            value = '1993',\n",
    "            description = 'Year:',\n",
    "        )\n",
    "        \n",
    "        self.month_dropdown = widgets.Dropdown(\n",
    "            #options = ['April', 'May', 'June', 'July', 'August'],\n",
    "            options = ['0401', '0501', '0601', '0701', '0801'],\n",
    "            #value = 'April',\n",
    "            value = '0401',\n",
    "            description = 'Month:',\n",
    "        )\n",
    "        \n",
    "        self.get_data = widgets.Button(\n",
    "            description = 'Get Data',\n",
    "            button_style = 'info',\n",
    "            tooltip = 'Click here to start downloading the appropriate data',\n",
    "            icon = '',\n",
    "        )\n",
    "        \n",
    "        self.make_plot = widgets.Button(\n",
    "            description = 'Initialize Plot',\n",
    "            button_style = '',\n",
    "            tooltip = 'Click here to initialize the plot with appropriate data',\n",
    "            icon = '',\n",
    "            disabled = True,\n",
    "        )        \n",
    "        \n",
    "        #add print statements to these so it doesn't look stalled\n",
    "        print('Reading coordinates')\n",
    "        self.coords, self.coords_clipped, self.loni, self.lati = read_coords(zone_number, zone_letter,\n",
    "                                                                             extent, grid_resolution,\n",
    "                                                                             s3, bucket)\n",
    "        print('Reading shapefile')\n",
    "        self.r, self.polygon, self.geoms = read_shapefile(s3, bucket)\n",
    "        print('Reading mask')\n",
    "        self.mask = read_mask(s3, bucket)\n",
    "        \n",
    "        clear_output()\n",
    "        \n",
    "        self.get_data.on_click(self.get_data_click)\n",
    "        self.make_plot.on_click(self.make_plot_click)\n",
    "        \n",
    "        display(self.year_dropdown, self.month_dropdown, self.get_data, self.make_plot)\n",
    "        \n",
    "    def get_data_click(self, b):\n",
    "        self.year = self.year_dropdown.get_interact_value()\n",
    "        self.month = self.month_dropdown.get_interact_value()\n",
    "        clear_output()\n",
    "        self.lat, self.lon, self.outflw1, self.avesal, self.cknodes = read_data(self.year, self.month, self.coords)\n",
    "        self.get_data.set_trait('icon', 'check')\n",
    "        self.get_data.set_trait('button_style', 'success')\n",
    "        self.make_plot.set_trait('disabled', False)\n",
    "        self.make_plot.set_trait('button_style', 'info')\n",
    "        \n",
    "    def make_plot_click(self, b):\n",
    "        clear_output()\n",
    "        self.ax = init_plot(extent, self.geoms)\n",
    "        self.time_text, self.sctr, self.quiv, self.lati, self.loni, self.levels, self.ticks, self.contf = \\\n",
    "        first_frame(self.ax, self.lat, self.lon, self.outflw1, self.cknodes, self.coords_clipped, \\\n",
    "                    grid_resolution, self.avesal, self.mask)\n",
    "        #This works -> self.time_text.set_text('changed')\n",
    "        self.make_plot.set_trait('icon', 'check')\n",
    "        self.make_plot.set_trait('button_style', 'success')\n",
    "        self.date_slider = widgets.SelectionSlider(\n",
    "            options=self.lon.index.tolist(), \n",
    "            description='Dates',\n",
    "            layout=Layout(width='75%', margin='20px'),\n",
    "        )\n",
    "        display(HBox([self.date_slider]))\n",
    "        self.date_slider.observe(self.slider_change)\n",
    "        \n",
    "    def slider_change(self, b):\n",
    "        update_plot(self.time_text, 'new text')\n",
    "        "
   ]
  },
  {
   "cell_type": "code",
   "execution_count": 54,
   "metadata": {
    "scrolled": false
   },
   "outputs": [
    {
     "name": "stdout",
     "output_type": "stream",
     "text": [
      "Reading latitude\n",
      "Reading longitude\n"
     ]
    }
   ],
   "source": [
    "f = widget_handler()"
   ]
  },
  {
   "cell_type": "code",
   "execution_count": 40,
   "metadata": {
    "collapsed": true
   },
   "outputs": [],
   "source": [
    "f.time_text.set_text('balls')"
   ]
  },
  {
   "cell_type": "code",
   "execution_count": 19,
   "metadata": {},
   "outputs": [
    {
     "data": {
      "application/vnd.jupyter.widget-view+json": {
       "model_id": "1d098957cc424b9e8b940194101000ed"
      }
     },
     "metadata": {},
     "output_type": "display_data"
    },
    {
     "name": "stdout",
     "output_type": "stream",
     "text": [
      "1993-04-01 00:00:00\n",
      "1993-04-01 02:30:00\n",
      "1993-04-01 02:30:00\n",
      "1993-04-01 02:30:00\n",
      "1993-04-01 15:00:00\n",
      "1993-04-01 15:00:00\n",
      "1993-04-01 15:00:00\n",
      "1993-04-01 22:30:00\n",
      "1993-04-01 22:30:00\n",
      "1993-04-01 22:30:00\n",
      "1993-04-02 04:30:00\n",
      "1993-04-02 04:30:00\n",
      "1993-04-02 04:30:00\n",
      "1993-04-02 09:30:00\n",
      "1993-04-02 09:30:00\n",
      "1993-04-02 09:30:00\n",
      "1993-04-02 10:30:00\n",
      "1993-04-02 10:30:00\n",
      "1993-04-02 10:30:00\n",
      "1993-04-02 13:00:00\n",
      "1993-04-02 13:00:00\n",
      "1993-04-02 13:00:00\n",
      "1993-04-02 14:30:00\n",
      "1993-04-02 14:30:00\n",
      "1993-04-02 14:30:00\n",
      "1993-04-02 15:30:00\n",
      "1993-04-02 15:30:00\n",
      "1993-04-02 15:30:00\n",
      "1993-04-03 02:30:00\n",
      "1993-04-03 02:30:00\n",
      "1993-04-03 02:30:00\n",
      "1993-04-03 11:00:00\n",
      "1993-04-03 11:00:00\n",
      "1993-04-03 11:00:00\n",
      "1993-04-03 20:00:00\n",
      "1993-04-03 20:00:00\n",
      "1993-04-03 20:00:00\n",
      "1993-04-03 23:30:00\n",
      "1993-04-03 23:30:00\n",
      "1993-04-03 23:30:00\n",
      "1993-04-04 03:00:00\n",
      "1993-04-04 03:00:00\n",
      "1993-04-04 03:00:00\n",
      "1993-04-04 14:30:00\n",
      "1993-04-04 14:30:00\n",
      "1993-04-04 14:30:00\n",
      "1993-04-04 18:00:00\n",
      "1993-04-04 18:00:00\n",
      "1993-04-04 18:00:00\n",
      "1993-04-05 01:30:00\n",
      "1993-04-05 01:30:00\n",
      "1993-04-05 01:30:00\n",
      "1993-04-05 05:00:00\n",
      "1993-04-05 05:00:00\n",
      "1993-04-05 05:00:00\n",
      "1993-04-05 06:30:00\n",
      "1993-04-05 06:30:00\n"
     ]
    }
   ],
   "source": [
    "date_slider = widgets.SelectionSlider(options=f.lon.index.tolist(), \n",
    "                                           description='Dates',\n",
    "                                           layout=Layout(width='75%', margin='20px'))\n",
    "display(HBox([date_slider]))\n",
    "\n",
    "date_slider.observe(update_plot)"
   ]
  },
  {
   "cell_type": "code",
   "execution_count": 51,
   "metadata": {},
   "outputs": [
    {
     "data": {
      "text/plain": [
       "'new text'"
      ]
     },
     "execution_count": 51,
     "metadata": {},
     "output_type": "execute_result"
    }
   ],
   "source": [
    "f.time_text.set_text('new text')\n",
    "f.time_text.get_text()"
   ]
  },
  {
   "cell_type": "code",
   "execution_count": null,
   "metadata": {
    "collapsed": true
   },
   "outputs": [],
   "source": []
  }
 ],
 "metadata": {
  "kernelspec": {
   "display_name": "Python 3",
   "language": "python",
   "name": "python3"
  },
  "language_info": {
   "codemirror_mode": {
    "name": "ipython",
    "version": 3
   },
   "file_extension": ".py",
   "mimetype": "text/x-python",
   "name": "python",
   "nbconvert_exporter": "python",
   "pygments_lexer": "ipython3",
   "version": "3.6.1"
  }
 },
 "nbformat": 4,
 "nbformat_minor": 2
}
